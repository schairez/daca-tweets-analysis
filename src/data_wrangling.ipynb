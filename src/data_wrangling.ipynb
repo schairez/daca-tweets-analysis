{
 "cells": [
  {
   "cell_type": "code",
   "execution_count": 16,
   "metadata": {},
   "outputs": [],
   "source": [
    "import pandas as pd\n",
    "import nltk \n",
    "from nltk.corpus import stopwords \n",
    "from nltk import bigrams \n",
    "import itertools\n",
    "import collections \n",
    "#install plotly express, do some bar graphs \n",
    "\n",
    "from clean_tweet_tools.clean_tweet import clean_tweet\n",
    "from nltk_tweet_tools.sentiment_scores import sentiment_analyzer_scores"
   ]
  },
  {
   "cell_type": "code",
   "execution_count": 10,
   "metadata": {
    "tags": []
   },
   "outputs": [
    {
     "output_type": "stream",
     "name": "stderr",
     "text": "[nltk_data] Downloading package stopwords to\n[nltk_data]     /Users/sergiochairez/nltk_data...\n[nltk_data]   Package stopwords is already up-to-date!\n"
    },
    {
     "output_type": "execute_result",
     "data": {
      "text/plain": "True"
     },
     "metadata": {},
     "execution_count": 10
    }
   ],
   "source": [
    "nltk.download('stopwords')"
   ]
  },
  {
   "cell_type": "code",
   "execution_count": 11,
   "metadata": {},
   "outputs": [],
   "source": [
    "stop_words = set(stopwords.words('english'))"
   ]
  },
  {
   "cell_type": "code",
   "execution_count": null,
   "metadata": {},
   "outputs": [],
   "source": []
  },
  {
   "cell_type": "code",
   "execution_count": 4,
   "metadata": {},
   "outputs": [],
   "source": [
    "jan_data = pd.read_json('../data/data_json_lines/Jan.jsonl', lines=True)"
   ]
  },
  {
   "cell_type": "code",
   "execution_count": 14,
   "metadata": {},
   "outputs": [
    {
     "output_type": "execute_result",
     "data": {
      "text/plain": "               author              timestamp  \\\n1560           TUSK81  2020-01-31T14:24:430Z   \n1561       MomsRising  2020-01-31T14:55:420Z   \n1562         SamSenev  2020-01-31T16:11:530Z   \n1563  FAIRImmigration  2020-01-31T16:30:060Z   \n1564      karlavaldex  2020-01-31T16:41:190Z   \n1565       ChloeEast2  2020-01-31T17:30:280Z   \n1566          dykejr_  2020-01-31T17:45:590Z   \n1567         SamSenev  2020-01-31T18:19:480Z   \n1568     prayingmedic  2020-01-31T18:40:360Z   \n1569     prayingmedic  2020-01-31T18:40:360Z   \n1570       RepEscobar  2020-01-31T19:05:000Z   \n1571      RepCardenas  2020-01-31T19:10:000Z   \n1572    RepBillFoster  2020-01-31T19:15:250Z   \n1573           m_clem  2020-01-31T19:39:360Z   \n1574      chrislhayes  2020-01-31T19:45:300Z   \n1575    RepBarbaraLee  2020-01-31T19:48:000Z   \n1576          MassAGO  2020-01-31T19:51:070Z   \n1577     itsYourGrace  2020-01-31T20:05:180Z   \n1578    ReynaEMontoya  2020-01-31T21:35:140Z   \n1579          zripena  2020-01-31T23:35:430Z   \n\n                                                 status sentiment  \n1560  \"Should the [Supreme Court] sign off on the pr...  positive  \n1561  \"If #DACA is terminated, hundreds of thousands...  negative  \n1562  DACA DEPORTATIONS ICE Director Albence is prep...   neutral  \n1563  DACA vs. Birth Tourism: Who’s ‘More’ American?...   neutral  \n1564  The future of the #DACA program is uncertain! ...  positive  \n1565  Woo @UCDavisEcon!! Check out the great work by...  positive  \n1566  so if anyone wants to help send me money for m...  positive  \n1567  Utah Supreme Court approves rule allowing DACA...  positive  \n1568  3) Seven months later, when the President said...  negative  \n1569  2) On February 7th, 2018, Nancy Pelosi gave a ...  positive  \n1570  There are 1,650 #DACA recipients in El Paso th...  negative  \n1571  #HomeIsHere for #Dreamers. They go to school h...  positive  \n1572  It’s been 7+ years since President Obama imple...  negative  \n1573  The lack of legal status for immigrant youth—b...  positive  \n1574  Let's take make some predictions right here on...   neutral  \n1575  Like so many towns across the US, my congressi...  positive  \n1576  Thank you @bostonchamber for this honor. In my...  positive  \n1577  Whoa.... they just found out the DACA \"kids' w...  positive  \n1578  Today is a surreal day, my partner and just wa...  negative  \n1579  If you are in LA and need to/want to renew you...  positive  ",
      "text/html": "<div>\n<style scoped>\n    .dataframe tbody tr th:only-of-type {\n        vertical-align: middle;\n    }\n\n    .dataframe tbody tr th {\n        vertical-align: top;\n    }\n\n    .dataframe thead th {\n        text-align: right;\n    }\n</style>\n<table border=\"1\" class=\"dataframe\">\n  <thead>\n    <tr style=\"text-align: right;\">\n      <th></th>\n      <th>author</th>\n      <th>timestamp</th>\n      <th>status</th>\n      <th>sentiment</th>\n    </tr>\n  </thead>\n  <tbody>\n    <tr>\n      <th>1560</th>\n      <td>TUSK81</td>\n      <td>2020-01-31T14:24:430Z</td>\n      <td>\"Should the [Supreme Court] sign off on the pr...</td>\n      <td>positive</td>\n    </tr>\n    <tr>\n      <th>1561</th>\n      <td>MomsRising</td>\n      <td>2020-01-31T14:55:420Z</td>\n      <td>\"If #DACA is terminated, hundreds of thousands...</td>\n      <td>negative</td>\n    </tr>\n    <tr>\n      <th>1562</th>\n      <td>SamSenev</td>\n      <td>2020-01-31T16:11:530Z</td>\n      <td>DACA DEPORTATIONS ICE Director Albence is prep...</td>\n      <td>neutral</td>\n    </tr>\n    <tr>\n      <th>1563</th>\n      <td>FAIRImmigration</td>\n      <td>2020-01-31T16:30:060Z</td>\n      <td>DACA vs. Birth Tourism: Who’s ‘More’ American?...</td>\n      <td>neutral</td>\n    </tr>\n    <tr>\n      <th>1564</th>\n      <td>karlavaldex</td>\n      <td>2020-01-31T16:41:190Z</td>\n      <td>The future of the #DACA program is uncertain! ...</td>\n      <td>positive</td>\n    </tr>\n    <tr>\n      <th>1565</th>\n      <td>ChloeEast2</td>\n      <td>2020-01-31T17:30:280Z</td>\n      <td>Woo @UCDavisEcon!! Check out the great work by...</td>\n      <td>positive</td>\n    </tr>\n    <tr>\n      <th>1566</th>\n      <td>dykejr_</td>\n      <td>2020-01-31T17:45:590Z</td>\n      <td>so if anyone wants to help send me money for m...</td>\n      <td>positive</td>\n    </tr>\n    <tr>\n      <th>1567</th>\n      <td>SamSenev</td>\n      <td>2020-01-31T18:19:480Z</td>\n      <td>Utah Supreme Court approves rule allowing DACA...</td>\n      <td>positive</td>\n    </tr>\n    <tr>\n      <th>1568</th>\n      <td>prayingmedic</td>\n      <td>2020-01-31T18:40:360Z</td>\n      <td>3) Seven months later, when the President said...</td>\n      <td>negative</td>\n    </tr>\n    <tr>\n      <th>1569</th>\n      <td>prayingmedic</td>\n      <td>2020-01-31T18:40:360Z</td>\n      <td>2) On February 7th, 2018, Nancy Pelosi gave a ...</td>\n      <td>positive</td>\n    </tr>\n    <tr>\n      <th>1570</th>\n      <td>RepEscobar</td>\n      <td>2020-01-31T19:05:000Z</td>\n      <td>There are 1,650 #DACA recipients in El Paso th...</td>\n      <td>negative</td>\n    </tr>\n    <tr>\n      <th>1571</th>\n      <td>RepCardenas</td>\n      <td>2020-01-31T19:10:000Z</td>\n      <td>#HomeIsHere for #Dreamers. They go to school h...</td>\n      <td>positive</td>\n    </tr>\n    <tr>\n      <th>1572</th>\n      <td>RepBillFoster</td>\n      <td>2020-01-31T19:15:250Z</td>\n      <td>It’s been 7+ years since President Obama imple...</td>\n      <td>negative</td>\n    </tr>\n    <tr>\n      <th>1573</th>\n      <td>m_clem</td>\n      <td>2020-01-31T19:39:360Z</td>\n      <td>The lack of legal status for immigrant youth—b...</td>\n      <td>positive</td>\n    </tr>\n    <tr>\n      <th>1574</th>\n      <td>chrislhayes</td>\n      <td>2020-01-31T19:45:300Z</td>\n      <td>Let's take make some predictions right here on...</td>\n      <td>neutral</td>\n    </tr>\n    <tr>\n      <th>1575</th>\n      <td>RepBarbaraLee</td>\n      <td>2020-01-31T19:48:000Z</td>\n      <td>Like so many towns across the US, my congressi...</td>\n      <td>positive</td>\n    </tr>\n    <tr>\n      <th>1576</th>\n      <td>MassAGO</td>\n      <td>2020-01-31T19:51:070Z</td>\n      <td>Thank you @bostonchamber for this honor. In my...</td>\n      <td>positive</td>\n    </tr>\n    <tr>\n      <th>1577</th>\n      <td>itsYourGrace</td>\n      <td>2020-01-31T20:05:180Z</td>\n      <td>Whoa.... they just found out the DACA \"kids' w...</td>\n      <td>positive</td>\n    </tr>\n    <tr>\n      <th>1578</th>\n      <td>ReynaEMontoya</td>\n      <td>2020-01-31T21:35:140Z</td>\n      <td>Today is a surreal day, my partner and just wa...</td>\n      <td>negative</td>\n    </tr>\n    <tr>\n      <th>1579</th>\n      <td>zripena</td>\n      <td>2020-01-31T23:35:430Z</td>\n      <td>If you are in LA and need to/want to renew you...</td>\n      <td>positive</td>\n    </tr>\n  </tbody>\n</table>\n</div>"
     },
     "metadata": {},
     "execution_count": 14
    }
   ],
   "source": [
    "jan_data.tail(20)"
   ]
  },
  {
   "cell_type": "code",
   "execution_count": 15,
   "metadata": {},
   "outputs": [
    {
     "output_type": "execute_result",
     "data": {
      "text/plain": "1580"
     },
     "metadata": {},
     "execution_count": 15
    }
   ],
   "source": [
    "len(jan_data)"
   ]
  },
  {
   "cell_type": "code",
   "execution_count": 21,
   "metadata": {},
   "outputs": [],
   "source": [
    "jan_data[[ 'sentiment','VADER_compound_score']] = jan_data.apply(\n",
    "    lambda row: pd.Series(sentiment_analyzer_scores(clean_tweet(row['status']))), axis=1)"
   ]
  },
  {
   "cell_type": "code",
   "execution_count": 22,
   "metadata": {},
   "outputs": [
    {
     "output_type": "execute_result",
     "data": {
      "text/plain": "             author              timestamp  \\\n0          LostDiva  2020-01-01T00:02:180Z   \n1         koolkaleo  2020-01-01T00:02:400Z   \n2       quefregados  2020-01-01T00:18:590Z   \n3        Parkermom2  2020-01-01T00:21:430Z   \n4         soandsew4  2020-01-01T00:22:480Z   \n...             ...                    ...   \n1575  RepBarbaraLee  2020-01-31T19:48:000Z   \n1576        MassAGO  2020-01-31T19:51:070Z   \n1577   itsYourGrace  2020-01-31T20:05:180Z   \n1578  ReynaEMontoya  2020-01-31T21:35:140Z   \n1579        zripena  2020-01-31T23:35:430Z   \n\n                                                 status sentiment  \\\n0     Neera Tanden #ThirdWay policy values lost to T...  negative   \n1     Look at the infiltrator imposter cleaned up wh...  negative   \n2     “It didn't take a crystal ball to see DACA wou...   neutral   \n3      Hunter Biden is on Pres Advisory board for #C...  positive   \n4     Latino DYING while in detention camps Latino b...  negative   \n...                                                 ...       ...   \n1575  Like so many towns across the US, my congressi...  positive   \n1576  Thank you @bostonchamber for this honor. In my...  positive   \n1577  Whoa.... they just found out the DACA \"kids' w...  positive   \n1578  Today is a surreal day, my partner and just wa...  negative   \n1579  If you are in LA and need to/want to renew you...  positive   \n\n      VADER_compound_score  \n0                  -0.9229  \n1                  -0.6705  \n2                   0.0000  \n3                   0.1531  \n4                  -0.9251  \n...                    ...  \n1575                0.4215  \n1576                0.7391  \n1577                0.4678  \n1578               -0.4767  \n1579                0.5106  \n\n[1580 rows x 5 columns]",
      "text/html": "<div>\n<style scoped>\n    .dataframe tbody tr th:only-of-type {\n        vertical-align: middle;\n    }\n\n    .dataframe tbody tr th {\n        vertical-align: top;\n    }\n\n    .dataframe thead th {\n        text-align: right;\n    }\n</style>\n<table border=\"1\" class=\"dataframe\">\n  <thead>\n    <tr style=\"text-align: right;\">\n      <th></th>\n      <th>author</th>\n      <th>timestamp</th>\n      <th>status</th>\n      <th>sentiment</th>\n      <th>VADER_compound_score</th>\n    </tr>\n  </thead>\n  <tbody>\n    <tr>\n      <th>0</th>\n      <td>LostDiva</td>\n      <td>2020-01-01T00:02:180Z</td>\n      <td>Neera Tanden #ThirdWay policy values lost to T...</td>\n      <td>negative</td>\n      <td>-0.9229</td>\n    </tr>\n    <tr>\n      <th>1</th>\n      <td>koolkaleo</td>\n      <td>2020-01-01T00:02:400Z</td>\n      <td>Look at the infiltrator imposter cleaned up wh...</td>\n      <td>negative</td>\n      <td>-0.6705</td>\n    </tr>\n    <tr>\n      <th>2</th>\n      <td>quefregados</td>\n      <td>2020-01-01T00:18:590Z</td>\n      <td>“It didn't take a crystal ball to see DACA wou...</td>\n      <td>neutral</td>\n      <td>0.0000</td>\n    </tr>\n    <tr>\n      <th>3</th>\n      <td>Parkermom2</td>\n      <td>2020-01-01T00:21:430Z</td>\n      <td>Hunter Biden is on Pres Advisory board for #C...</td>\n      <td>positive</td>\n      <td>0.1531</td>\n    </tr>\n    <tr>\n      <th>4</th>\n      <td>soandsew4</td>\n      <td>2020-01-01T00:22:480Z</td>\n      <td>Latino DYING while in detention camps Latino b...</td>\n      <td>negative</td>\n      <td>-0.9251</td>\n    </tr>\n    <tr>\n      <th>...</th>\n      <td>...</td>\n      <td>...</td>\n      <td>...</td>\n      <td>...</td>\n      <td>...</td>\n    </tr>\n    <tr>\n      <th>1575</th>\n      <td>RepBarbaraLee</td>\n      <td>2020-01-31T19:48:000Z</td>\n      <td>Like so many towns across the US, my congressi...</td>\n      <td>positive</td>\n      <td>0.4215</td>\n    </tr>\n    <tr>\n      <th>1576</th>\n      <td>MassAGO</td>\n      <td>2020-01-31T19:51:070Z</td>\n      <td>Thank you @bostonchamber for this honor. In my...</td>\n      <td>positive</td>\n      <td>0.7391</td>\n    </tr>\n    <tr>\n      <th>1577</th>\n      <td>itsYourGrace</td>\n      <td>2020-01-31T20:05:180Z</td>\n      <td>Whoa.... they just found out the DACA \"kids' w...</td>\n      <td>positive</td>\n      <td>0.4678</td>\n    </tr>\n    <tr>\n      <th>1578</th>\n      <td>ReynaEMontoya</td>\n      <td>2020-01-31T21:35:140Z</td>\n      <td>Today is a surreal day, my partner and just wa...</td>\n      <td>negative</td>\n      <td>-0.4767</td>\n    </tr>\n    <tr>\n      <th>1579</th>\n      <td>zripena</td>\n      <td>2020-01-31T23:35:430Z</td>\n      <td>If you are in LA and need to/want to renew you...</td>\n      <td>positive</td>\n      <td>0.5106</td>\n    </tr>\n  </tbody>\n</table>\n<p>1580 rows × 5 columns</p>\n</div>"
     },
     "metadata": {},
     "execution_count": 22
    }
   ],
   "source": [
    "jan_data"
   ]
  },
  {
   "cell_type": "code",
   "execution_count": null,
   "metadata": {},
   "outputs": [],
   "source": []
  }
 ],
 "metadata": {
  "language_info": {
   "codemirror_mode": {
    "name": "ipython",
    "version": 3
   },
   "file_extension": ".py",
   "mimetype": "text/x-python",
   "name": "python",
   "nbconvert_exporter": "python",
   "pygments_lexer": "ipython3",
   "version": "3.7.4-final"
  },
  "orig_nbformat": 2,
  "kernelspec": {
   "name": "python37464bitvenvvenv3f7e8e4ea96948a48837abaca082db06",
   "display_name": "Python 3.7.4 64-bit ('.venv': venv)"
  }
 },
 "nbformat": 4,
 "nbformat_minor": 2
}