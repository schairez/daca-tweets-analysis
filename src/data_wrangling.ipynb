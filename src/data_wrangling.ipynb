{
 "cells": [
  {
   "cell_type": "code",
   "execution_count": 2,
   "metadata": {},
   "outputs": [],
   "source": [
    "import pandas as pd"
   ]
  },
  {
   "cell_type": "code",
   "execution_count": 3,
   "metadata": {},
   "outputs": [
    {
     "output_type": "execute_result",
     "data": {
      "text/plain": "             author              timestamp  \\\n0          LostDiva  2020-01-01T00:02:180Z   \n1         koolkaleo  2020-01-01T00:02:400Z   \n2       quefregados  2020-01-01T00:18:590Z   \n3        Parkermom2  2020-01-01T00:21:430Z   \n4         soandsew4  2020-01-01T00:22:480Z   \n...             ...                    ...   \n1575  RepBarbaraLee  2020-01-31T19:48:000Z   \n1576        MassAGO  2020-01-31T19:51:070Z   \n1577   itsYourGrace  2020-01-31T20:05:180Z   \n1578  ReynaEMontoya  2020-01-31T21:35:140Z   \n1579        zripena  2020-01-31T23:35:430Z   \n\n                                                 status sentiment  \n0     Neera Tanden #ThirdWay policy values lost to T...  negative  \n1     Look at the infiltrator imposter cleaned up wh...  negative  \n2     “It didn't take a crystal ball to see DACA wou...   neutral  \n3      Hunter Biden is on Pres Advisory board for #C...  positive  \n4     Latino DYING while in detention camps Latino b...  negative  \n...                                                 ...       ...  \n1575  Like so many towns across the US, my congressi...  positive  \n1576  Thank you @bostonchamber for this honor. In my...  positive  \n1577  Whoa.... they just found out the DACA \"kids' w...  positive  \n1578  Today is a surreal day, my partner and just wa...  negative  \n1579  If you are in LA and need to/want to renew you...  positive  \n\n[1580 rows x 4 columns]",
      "text/html": "<div>\n<style scoped>\n    .dataframe tbody tr th:only-of-type {\n        vertical-align: middle;\n    }\n\n    .dataframe tbody tr th {\n        vertical-align: top;\n    }\n\n    .dataframe thead th {\n        text-align: right;\n    }\n</style>\n<table border=\"1\" class=\"dataframe\">\n  <thead>\n    <tr style=\"text-align: right;\">\n      <th></th>\n      <th>author</th>\n      <th>timestamp</th>\n      <th>status</th>\n      <th>sentiment</th>\n    </tr>\n  </thead>\n  <tbody>\n    <tr>\n      <th>0</th>\n      <td>LostDiva</td>\n      <td>2020-01-01T00:02:180Z</td>\n      <td>Neera Tanden #ThirdWay policy values lost to T...</td>\n      <td>negative</td>\n    </tr>\n    <tr>\n      <th>1</th>\n      <td>koolkaleo</td>\n      <td>2020-01-01T00:02:400Z</td>\n      <td>Look at the infiltrator imposter cleaned up wh...</td>\n      <td>negative</td>\n    </tr>\n    <tr>\n      <th>2</th>\n      <td>quefregados</td>\n      <td>2020-01-01T00:18:590Z</td>\n      <td>“It didn't take a crystal ball to see DACA wou...</td>\n      <td>neutral</td>\n    </tr>\n    <tr>\n      <th>3</th>\n      <td>Parkermom2</td>\n      <td>2020-01-01T00:21:430Z</td>\n      <td>Hunter Biden is on Pres Advisory board for #C...</td>\n      <td>positive</td>\n    </tr>\n    <tr>\n      <th>4</th>\n      <td>soandsew4</td>\n      <td>2020-01-01T00:22:480Z</td>\n      <td>Latino DYING while in detention camps Latino b...</td>\n      <td>negative</td>\n    </tr>\n    <tr>\n      <th>...</th>\n      <td>...</td>\n      <td>...</td>\n      <td>...</td>\n      <td>...</td>\n    </tr>\n    <tr>\n      <th>1575</th>\n      <td>RepBarbaraLee</td>\n      <td>2020-01-31T19:48:000Z</td>\n      <td>Like so many towns across the US, my congressi...</td>\n      <td>positive</td>\n    </tr>\n    <tr>\n      <th>1576</th>\n      <td>MassAGO</td>\n      <td>2020-01-31T19:51:070Z</td>\n      <td>Thank you @bostonchamber for this honor. In my...</td>\n      <td>positive</td>\n    </tr>\n    <tr>\n      <th>1577</th>\n      <td>itsYourGrace</td>\n      <td>2020-01-31T20:05:180Z</td>\n      <td>Whoa.... they just found out the DACA \"kids' w...</td>\n      <td>positive</td>\n    </tr>\n    <tr>\n      <th>1578</th>\n      <td>ReynaEMontoya</td>\n      <td>2020-01-31T21:35:140Z</td>\n      <td>Today is a surreal day, my partner and just wa...</td>\n      <td>negative</td>\n    </tr>\n    <tr>\n      <th>1579</th>\n      <td>zripena</td>\n      <td>2020-01-31T23:35:430Z</td>\n      <td>If you are in LA and need to/want to renew you...</td>\n      <td>positive</td>\n    </tr>\n  </tbody>\n</table>\n<p>1580 rows × 4 columns</p>\n</div>"
     },
     "metadata": {},
     "execution_count": 3
    }
   ],
   "source": [
    "pd.read_json('../data/data_json_lines/Jan.jsonl', lines=True)"
   ]
  },
  {
   "cell_type": "code",
   "execution_count": null,
   "metadata": {},
   "outputs": [],
   "source": []
  }
 ],
 "metadata": {
  "language_info": {
   "codemirror_mode": {
    "name": "ipython",
    "version": 3
   },
   "file_extension": ".py",
   "mimetype": "text/x-python",
   "name": "python",
   "nbconvert_exporter": "python",
   "pygments_lexer": "ipython3",
   "version": "3.7.4-final"
  },
  "orig_nbformat": 2,
  "kernelspec": {
   "name": "python37464bitvenvvenv3f7e8e4ea96948a48837abaca082db06",
   "display_name": "Python 3.7.4 64-bit ('.venv': venv)"
  }
 },
 "nbformat": 4,
 "nbformat_minor": 2
}