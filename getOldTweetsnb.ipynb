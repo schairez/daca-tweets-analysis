{
 "cells": [
  {
   "cell_type": "code",
   "execution_count": 25,
   "metadata": {},
   "outputs": [],
   "source": [
    "from mine_tweet_tools import get_historical_tweets\n",
    "from clean_tweet_tools.clean_tweet import clean_tweet\n",
    "from nltk_tweet_tools.sentiment_scores import sentiment_analyzer_scores as get_sent_scores \n",
    "from file_tools.json_tools import write_JSON_file\n",
    "from datetime import datetime "
   ]
  },
  {
   "cell_type": "code",
   "execution_count": 2,
   "metadata": {},
   "outputs": [
    {
     "output_type": "execute_result",
     "data": {
      "text/plain": "['List',\n '__builtins__',\n '__cached__',\n '__doc__',\n '__file__',\n '__loader__',\n '__name__',\n '__package__',\n '__spec__',\n 'get_tweets',\n 'got']"
     },
     "metadata": {},
     "execution_count": 2
    }
   ],
   "source": [
    "dir(get_historical_tweets)"
   ]
  },
  {
   "cell_type": "code",
   "execution_count": 3,
   "metadata": {
    "tags": []
   },
   "outputs": [],
   "source": [
    "tweet_sample = get_historical_tweets.get_tweets(\"DACA\", \"2020-06-19\", \"2020-06-20\")\n"
   ]
  },
  {
   "cell_type": "code",
   "execution_count": 37,
   "metadata": {},
   "outputs": [],
   "source": [
    "def iter_arr_output(arr_tweet_objs):\n",
    "    arr = [] \n",
    "    for tweet  in tweet_sample:\n",
    "        dt = tweet.date \n",
    "        tweet_clean = clean_tweet(tweet.text)\n",
    "        output_dict = {\n",
    "        \"author\": tweet.username, \n",
    "        \"timestamp\": dt.strftime(\"%Y-%m-%dT%H:%M:%S\") + str(dt.microsecond) +'Z', \n",
    "        \"status\": tweet.text,\n",
    "        \"sentiment\": get_sent_scores(tweet_clean) \n",
    "        }\n",
    "        arr.append(output_dict)\n",
    "    return sorted(arr, key=lambda k: k[\"timestamp\"])"
   ]
  },
  {
   "cell_type": "code",
   "execution_count": 34,
   "metadata": {
    "tags": []
   },
   "outputs": [],
   "source": [
    "new_arr = iter_arr_output(tweet_sample)"
   ]
  },
  {
   "cell_type": "code",
   "execution_count": 35,
   "metadata": {},
   "outputs": [
    {
     "output_type": "execute_result",
     "data": {
      "text/plain": "o Resign Following DACA Ruling http://dlvr.it/RYzZVz',\n  'sentiment': 'positive'},\n {'author': 'BardsFM',\n  'timestamp': '2020-06-19T19:48:380Z',\n  'status': 'Meanwhile at the DOJ... After failing at the Supreme Court with termination of DACA and losing to the Cabal of Pedophile rights earlier this week... the DOJ is now fighting for Islam. https://dailycaller.com/2020/06/19/justice-department-religions-freedom-lawsuit-stafford-county-virginia-muslim-cemetery/?utm_medium=push&amp;utm_source=daily_caller&amp;utm_campaign=push',\n  'sentiment': 'negative'},\n {'author': 'EpochTimes',\n  'timestamp': '2020-06-19T19:58:030Z',\n  'status': \"President Trump will submit “enhanced papers” to cancel an #Obama-era #DACA program that provides legal protections for #IllegalAliens who were brought into the US as children after the #SupremeCourt ruled to block the Trump's first attempt to do so.\",\n  'sentiment': 'negative'},\n {'author': 'LatinoUSA',\n  'timestamp': '2020-06-19T20:01:220Z',\n  'status': \"DACA-recipients, we want to hear from you on the Supreme Court’s decision to uphold DACA. If you're comfortable: tell us your name, where you live, and your reaction when you first heard about it. Tag us on a Twitter #voicenote or call us at (646) 571-1224.\",\n  'sentiment': 'positive'},\n {'author': 'RealVinnieJames',\n  'timestamp': '2020-06-19T20:01:360Z',\n  'status': 'SCOTUS tells Trump he\\'s correct about DACA but the \"process\" was at fault. So he immediately pivots to correct the process while keeping the focus on the goal. This is one HELL of a great President! Block his left jab and he instantly flanks you with a right cross! Brilliant. -VJ',\n  'sentiment': 'negative'},\n {'author': 'rising_serpent',\n  'timestamp': '2020-06-19T20:06:550Z',\n  'status': 'Trump did offer DACA amnesty to Democrats. They refused. Rubio has no power one way or the other to negotiate. This is empty grandstanding. Plus \"working with the other side\" implies the other side isn\\'t trying to completely destroy you. ',\n  'sentiment': 'negative'},\n {'author': 'TIME',\n  'timestamp': '2020-06-19T20:08:450Z',\n  'status': 'Trump says he will renew effort to end DACA protections after Supreme Court ruling ',\n  'sentiment': 'positive'},\n {'author': 'true_pundit',\n  'timestamp': '2020-06-19T20:30:130Z',\n  'status': 'Ted Cruz Completely DESTROYS John Roberts on Senate Floor Over DACA Decision ',\n  'sentiment': 'negative'},\n {'author': 'LaurenWitzkeDE',\n  'timestamp': '2020-06-19T20:31:490Z',\n  'status': 'I’ll be on @newsmax at 5:15 to discuss #DACA and why America needs an #immigrationmoratorium now, more than ever. #AmericaFirst',\n  'sentiment': 'neutral'},\n {'author': 'Astrid_NV',\n  'timestamp': '2020-06-19T20:49:230Z',\n  'status': 'The statement from USCIS on the DACA Decision reads like an angry facebook post from your racist uncle... ',\n  'sentiment': 'negative'},\n {'author': 'rdrigopimentel',\n  'timestamp': '2020-06-19T20:53:010Z',\n  'status': \"The Heritage Foundation is pushing Trump to stop the issuance of #DACA renewals and work authorization. They aren't hiding their tactics, they are publishing them in plain sight, on the @latimes.\",\n  'sentiment': 'negative'},\n {'author': 'thehill',\n  'timestamp': '2020-06-19T20:55:070Z',\n  'status': 'NEW: Top DHS official: Trump instructed agency to \"restart the DACA process\" http://hill.cm/FZe56Iy',\n  'sentiment': 'positive'},\n {'author': 'pragmatic_texan',\n  'timestamp': '2020-06-19T20:58:460Z',\n  'status': 'So now that CJ Roberts has vastly expanded Trump’s authority via the DACA ruling, (i.e. Presidents can apparently actually write laws now), can we get rid of our useless Congress finally?',\n  'sentiment': 'negative'},\n {'author': 'kylegriffin1',\n  'timestamp': '2020-06-19T21:00:390Z',\n  'status': 'Sotomayor directly linked Trump\\'s attacks on immigrants and the admin\\'s DACA position. \"I would not so readily dismiss the allegation that an executive decision disproportionately harms the same racial group that the President branded as less desirable.\" ',\n  'sentiment': 'negative'},\n {'author': 'democracynow',\n  'timestamp': '2020-06-19T21:01:000Z',\n  'status': 'The Supreme Court\\'s ruling that Trump cannot end DACA is a reflection \"of movement building, of organizing, of the courage of millions of people,\" says @ErikaAndiola of @RAICESTEXAS. \"We took the step to come out of the shadows ... and it’s been worth it.\" https://bit.ly/3daiM1i',\n  'sentiment': 'positive'},\n {'author': 'ajplus',\n  'timestamp': '2020-06-19T21:10:470Z',\n  'status': \"DACA recipients celebrated outside the Supreme Court after it decided to block President Trump's plans to cancel the program. But their status still isn't secure as Trump continues to fight the decision. \",\n  'sentiment': 'negative'},\n {'author': 'ratt_ko',\n  'timestamp': '2020-06-19T21:12:440Z',\n  'status': 'yesterday: oh wow they’re going to move the statue at UM & the SCOTUS upheld DACA today: oh now they’re making a Six Flags over Confederacy at UM &amp; also Tennessee passed an abortion ban',\n  'sentiment': 'positive'},\n {'author': 'juanvalles__',\n  'timestamp': '2020-06-19T21:16:140Z',\n  'status': 'DACA recipients are typically left to play catch-up in their K-12 education before going to college. DACA recipients don’t receive federal aid to attend college. DACA recipients have to work 2x harder to be half as good as their citizen counterparts. tell ur kids to step tf up. ',\n  'sentiment': 'positive'},\n {'author': 'NPR',\n  'timestamp': '2020-06-19T21:21:260Z',\n  'status': \"On a new episode of @npritsbeenamin host Sam Sanders chats about the Supreme Court with Slate's Mark Joseph Stern, then checks in with Tobore Oweh, a DACA recipient who is hopeful yet realistic about her status. \",\n  'sentiment': 'positive'},\n {'author': 'carrerapulse',\n  'timestamp': '2020-06-19T21:31:380Z',\n  'status': 'One study from Arizona found that \"Dreamers\" made up 2% of the state population but 8% of the prison population. Approximately 8,000 crimes committed by DACA beneficiaries would have never happened if DACA didn’t exist or if prohibitions were enforced. Thanks @BarackObama!',\n  'sentiment': 'positive'},\n {'author': 'news_ntd',\n  'timestamp': '2020-06-19T21:35:040Z',\n  'status': 'President @realDonaldTrump said he will submit “enhanced papers” to cancel #DACA, an #Obama-era program that provides legal protections for undocumented #immigrants who were brought into the US as children.',\n  'sentiment': 'negative'},\n {'author': 'UNITEDWEDREAM',\n  'timestamp': '2020-06-19T21:39:070Z',\n  'status': \"Yesterday was a big day for DACA recipients. With that ruling comes a lot of questions. Here's what we know so far: Text DACAdecision to 877877 to be on our list for the latest updates on NEW applications and advanced parole as they roll in. \",\n  'sentiment': 'positive'},\n {'author': 'WSU_Cougar_Pres',\n  'timestamp': '2020-06-19T21:45:320Z',\n  'status': 'Yesterday’s ruling by the US Supreme Court in support of our DACA students is a tremendous victory for many students at WSU! https://from.wsu.edu/president/2020/DACA-ruling/email.html #GoCougs',\n  'sentiment': 'positive'},\n {'author': 'TPPatriots',\n  'timestamp': '2020-06-19T21:46:470Z',\n  'status': \"REPORT: After the Supreme Court blocked the Trump Administrations plans to rescind the DACA program, President @realDonaldTrump made it clear he's not backing down... @DBongino has the story \",\n  'sentiment': 'positive'},\n {'author': 'diversebooks',\n  'timestamp': '2020-06-19T21:47:130Z',\n  'status': \"The fight is far from over but in celebration of the Supreme Court's decision this week, here's a list of books by authors whose identities and works reflect those of DACA recipients! Here's to the Dreamers. \",\n  'sentiment': 'positive'},\n {'author': 'no_silenced',\n  'timestamp': '2020-06-19T21:49:420Z',\n  'status': 'Maybe we should just let Roberts write the Executive Order that will end DACA',\n  'sentiment': 'neutral'},\n {'author': 'CNN',\n  'timestamp': '2020-06-19T21:51:020Z',\n  'status': 'Chief Justice John Roberts took issue with the manner in which President Trump tried to terminate DACA, but left open the possibility for the administration to take another swing at it ',\n  'sentiment': 'positive'},\n {'author': 'OurRevolution',\n  'timestamp': '2020-06-19T22:00:000Z',\n  'status': 'We thank Justice Sotomayor for her remarks in convincing Chief Justice Roberts to preserve DACA. #ImmigrantRights #DefendDemocracy',\n  'sentiment': 'positive'},\n {'author': 'joelockhart',\n  'timestamp': '2020-06-19T22:00:500Z',\n  'status': \"6. He's hoping for a lot of tear gas and vicious dogs to take on the peaceful protesters, then he'll come our and hold a Bible up like a complete dork. Q On DACA, the President's tweet this morning, he said he's going to move ahead and try to end that program, what is the\",\n  'sentiment': 'positive'},\n {'author': 'jocelynjokes',\n  'timestamp': '2020-06-19T22:15:220Z',\n  'status': 'Here’s statement #42947391947392048.... Actions speak louder than words!!! Give undocu more counselors, health insurance, increase if not double the Undocumented Iniatives Budget, provide money for DACA Renwals, donate to CRIMSON GROUP! ',\n  'sentiment': 'positive'},\n {'author': 'nytpolitics',\n  'timestamp': '2020-06-19T22:16:050Z',\n  'status': 'President Trump said that he will once again attempt to end the Obama-era DACA program designed to protect young immigrants from deportation ',\n  'sentiment': 'positive'},\n {'author': 'robless23',\n  'timestamp': '2020-06-19T22:21:310Z',\n  'status': '#DACA this came from my lawyer just thought I’d share some info ',\n  'sentiment': 'positive'},\n {'author': 'kalvarezguillen',\n  'timestamp': '2020-06-19T22:24:280Z',\n  'status': 'DACA recipient shares her joy. ',\n  'sentiment': 'positive'},\n {'author': 'JackJ',\n  'timestamp': '2020-06-19T22:29:510Z',\n  'status': 'Narcissistic, dodges questions, accused of sexual misconduct by 25+ women, most bigoted president we’ve ever had, trying to end DACA, seperates immigrant children from their parents and locks them in cages, made fun of a handicapped reporter on live TV, jus to name a few ',\n  'sentiment': 'positive'},\n {'author': 'leach_deanna',\n  'timestamp': '2020-06-19T22:30:000Z',\n  'status': '10 Times When Obama’s Words Insinuated DACA Is Unconstitutional. ',\n  'sentiment': 'neutral'},\n {'author': 'AJEnglish',\n  'timestamp': '2020-06-19T22:30:010Z',\n  'status': 'Trump may try again to limit DACA immigrant protections ',\n  'sentiment': 'neutral'},\n {'author': 'FAIRImmigration',\n  'timestamp': '2020-06-19T22:30:040Z',\n  'status': 'Trump says he will renew effort to end DACA protections https://bit.ly/31aD88r via @wsfa12news @astridgalvan @debriechmann',\n  'sentiment': 'neutral'},\n {'author': 'usmade1001',\n  'timestamp': '2020-06-19T22:31:200Z',\n  'status': 'President Trump Confirms: We’ll Re-Cancel DACA ‘Shortly’ Democrats have given up on helping the DACA migrants, Trump suggested. “They have abandoned DACA. Based on the decision the Dems can’t make DACA citizens. They gained nothing!” ',\n  'sentiment': 'positive'},\n {'author': 'WSUNews',\n  'timestamp': '2020-06-19T22:32:030Z',\n  'status': '#WSU leadership: Supreme Court ruling affirms #DACA policy. \"As we celebrate this decision, particularly on this date, #Juneteenth, let us also reflect on the work ahead.\" Full message https://from.wsu.edu/president/2020/DACA-ruling/email.html #GoCougs',\n  'sentiment': 'positive'},\n {'author': 'NPRCodeSwitch',\n  'timestamp': '2020-06-19T22:36:030Z',\n  'status': \"We've got a bonus episode of the podcast for your Friday! Miriam Gonzalez, one of the plaintiffs in the Supreme Court DACA case, has been fighting to keep the program alive since 2017. We checked in with her yesterday, after she found out they won. \",\n  'sentiment': 'positive'},\n {'author': 'NinaTotenberg',\n  'timestamp': '2020-06-19T22:39:090Z',\n  'status': 'On #DACA, #SCOTUS: “Why should the court be the bad guy” when the Trump Adm. refuses “to take responsibility.” - Prof. Lucas Guttentag',\n  'sentiment': 'negative'},\n {'author': 'itslessly_',\n  'timestamp': '2020-06-19T22:40:010Z',\n  'status': 'Also remember not all DREAMers have DACA. DREAMer is a term used for individuals who are undocumented or DACAmented fighting for a clean DREAM act and path to citizenship ',\n  'sentiment': 'positive'},\n {'author': 'UArizonaPres',\n  'timestamp': '2020-06-19T22:40:020Z',\n  'status': \"We are proud of @uarizona's DACA students &amp; pleased the Supreme Court's decision will allow them to pursue their academic goals w/ more predictability in their status. We will continue to support them as they pursue their hopes and dreams. Statement https://bddy.me/3dgHDk5\",\n  'sentiment': 'positive'},\n {'author': 'RepRoybalAllard',\n  'timestamp': '2020-06-19T22:54:440Z',\n  'status': \"Let's be clear: The president is still trying to destroy #DACA, and I won't stop fighting to defend it. At the same time, I'll keep pushing @SenateMajLdr to pass my #DreamAndPromiseAct (#HR6), so we can protect #Dreamers permanently.\",\n  'sentiment': 'positive'},\n {'author': 'UNITEDWEDREAM',\n  'timestamp': '2020-06-19T22:56:390Z',\n  'status': 'DACA stays, for now, but the fight isn’t over. Join us MONDAY 1pm ET the Home Is Here Rally to show support for immigrant communities NOW: http://www.DACAdecision.com/rally',\n  'sentiment': 'positive'},\n {'author': 'RWPUSA',\n  'timestamp': '2020-06-19T22:58:480Z',\n  'status': \"Bottom line: Congress needs to act to make DACA permanent. Two-Minute Take: Supreme Court's Decision on DACA | Bush Center \",\n  'sentiment': 'positive'},\n {'author': 'RonThayer3',\n  'timestamp': '2020-06-19T23:01:170Z',\n  'status': 'What the ever loving F? How evil do you have to be to do something like this? Betsy DeVos Issues Emergency Rule That DACA And Foreign Students Cannot Receive Corona Virus Relief F... via @forbes',\n  'sentiment': 'positive'},\n {'author': 'SenatorDurbin',\n  'timestamp': '2020-06-19T23:04:280Z',\n  'status': 'Mr. President, 43 Senators strongly urge you to change course and use your executive authority to protect, not deport, the young immigrants who are eligible for #DACA. We, and hundreds of thousands of #Dreamers, await your response. #HomeIsHere https://twitter.com/realdonaldtrump/status/1273967323901317120',\n  'sentiment': 'positive'},\n {'author': 'rightNtruthMat',\n  'timestamp': '2020-06-19T23:04:410Z',\n  'status': 'Trump is Melting Down SCOTUS, DACA, LGBTQ Bolton, Mary Trump Bad Polling Bible Bust Hiding an illness anti-Trump protests Impotence = 120K deaths Generals, NFL, NASCAR Mocked by foreign leaders Trump is profoundly Unfit to serve as #POTUS #WeakPresident',\n  'sentiment': 'negative'},\n {'author': 'VanityFair',\n  'timestamp': '2020-06-19T23:06:190Z',\n  'status': \"How Trumpian incompetence led to Chief Justice Robert's DACA ruling \",\n  'sentiment': 'neutral'},\n {'author': 'mcspocky',\n  'timestamp': '2020-06-19T23:06:360Z',\n  'status': \"tRump's wrong. Everyone knows tRump's wrong. Even the Supreme Court says tRump is wrong. But tRump refuses to let go of his hate. So he says he'll find another way to end DACA protections. tRump is the one who really needs to be deported. That would definitely help to #MAGA!\",\n  'sentiment': 'negative'},\n {'author': 'sebroche',\n  'timestamp': '2020-06-19T23:07:360Z',\n  'status': \"There is something seriously wrong with anyone who opposes DACA (Dream act) Supreme Court Daca ruling: 'This means continuing to live the American dream' \",\n  'sentiment': 'positive'},\n {'author': 'DontTreadOnUS',\n  'timestamp': '2020-06-19T23:07:450Z',\n  'status': \"@TheDemocrats: You can't hold #DACA kids responsible for what their parents did 20 years ago! Also @TheDemocrats: Every White American is personally responsible for what people with no relation to you did 200 years ago! Pay up! #Trump2020 because #LeftismIsAmentalDisorder\",\n  'sentiment': 'positive'},\n {'author': 'cj0rdan',\n  'timestamp': '2020-06-19T23:11:420Z',\n  'status': ' Donald Trump Confirms: We‘ll Re-Cancel DACA ‘Shortly‘ https://www.breitbart.com/politics/2020/06/19/donald-trump-well-re-cancel-daca-shortly/ via @BreitbartNews',\n  'sentiment': 'neutral'},\n {'author': 'KellySunshineT1',\n  'timestamp': '2020-06-19T23:18:040Z',\n  'status': 'Hope DACA kids realize they got dropped in the grease by the Democrats in favor of Black Lives matter.',\n  'sentiment': 'positive'},\n {'author': 'Lybio',\n  'timestamp': '2020-06-19T23:18:530Z',\n  'status': '@PressSec @kayleighmcenany Pres @realDonaldTrump Was Essentially Right On The Law On DACA So in other words, Pres Trump was right on the law here. It was UNLAWFUL the way Pres @BarackObama went about this. #MAGA #AmericaFirst #SendThemHome #SendIllegalsHome #ICE #Trump2020',\n  'sentiment': 'neutral'},\n {'author': 'HuckabeeOnTBN',\n  'timestamp': '2020-06-19T23:22:140Z',\n  'status': \"Here's the latest: Supreme Court's Bogus DACA Ruling Sarah Sanders DISGUSTED With Bolton Memoir John Bolton's Revolt Don't miss an ALL-NEW BREAKDOWN of the week: https://bit.ly/3fHmt01\",\n  'sentiment': 'neutral'},\n {'author': 'ProgressNowAZ',\n  'timestamp': '2020-06-19T23:27:190Z',\n  'status': 'Maricopa County Sheriff @paulpenzone, a Democrat, posted yesterday that he supports DACA recipients. And yet his collaboration with ICE consistently results in disrupted lives, trauma &amp; deportations for exactly the people he claims to support. ',\n  'sentiment': 'positive'},\n {'author': 'chuckwoolery',\n  'timestamp': '2020-06-19T23:30:050Z',\n  'status': 'After DACA Ruling — Trump Drops Supreme Court Replacement Bombshell ',\n  'sentiment': 'positive'},\n {'author': 'thehill',\n  'timestamp': '2020-06-19T23:31:000Z',\n  'status': 'Press Sec. Kayleigh McEnany: \"You had all of the justices saying that President Trump was essentially right on the law on DACA.\" ',\n  'sentiment': 'neutral'},\n {'author': 'groth1945',\n  'timestamp': '2020-06-19T23:36:190Z',\n  'status': ' When President Obama wrote his DACA Executive Order he was in VIOLATION of the ADMINISTRATIVE PROCEDURE ACT . @realDonaldTrump in his latest DACA EX ORDER violated the Act as well.SCOTUS noted he has to DO IT ACCORDING TO THE ACT.That will happen https://www.breitbart.com/politics/2020/06/19/kobach-the-supreme-courts-convoluted-reasoning-in-the-daca-case/',\n  'sentiment': 'negative'},\n {'author': 'melaniepamela_',\n  'timestamp': '2020-06-19T23:41:300Z',\n  'status': 'I talked to some dreamers about what the Supreme Court DACA ruling means to them, feel free to check it out ',\n  'sentiment': 'positive'},\n {'author': 'thehill',\n  'timestamp': '2020-06-19T23:45:000Z',\n  'status': 'Joe Biden: \"If Donald Trump tries to rescind DACA again, he will bear direct responsibility for destroying the lives of nearly 700,000 bright young people whose home is here, who already are Americans in every way that matters.\" ',\n  'sentiment': 'negative'},\n {'author': 'MarkYoungTruth',\n  'timestamp': '2020-06-19T23:45:010Z',\n  'status': 'After DACA Ruling — Trump Drops Supreme Court Replacement Bombshell ',\n  'sentiment': 'positive'},\n {'author': 'KrisKobach1787',\n  'timestamp': '2020-06-19T23:45:080Z',\n  'status': 'Now five justices of the Supreme Court have come to the bizarre conclusion that the DACA amnesty, which was completely illegal, cannot be rescinded as easily as it was created. #kssen',\n  'sentiment': 'positive'},\n {'author': 'ErickGEEE',\n  'timestamp': '2020-06-19T23:46:060Z',\n  'status': 'Yesterday felt like it was happening in another reality. I got to hang and eat tacos with Rudy Barrientos, who makes great fish tacos and happens to be DACA. And it was dope to talk to someone who just got a big win. This is that story. Gracias Señor. ',\n  'sentiment': 'positive'},\n {'author': 'UofCalifornia',\n  'timestamp': '2020-06-19T23:54:060Z',\n  'status': 'We can’t truly celebrate the #SCOTUS decision until we know that #DACA recipients have permanent legal protection. Will you stand with us in calling on Congress to take this much needed action? #UCDACA #HomeIsHere https://bit.ly/3hIpL59',\n  'sentiment': 'positive'}]"
     },
     "metadata": {},
     "execution_count": 35
    }
   ],
   "source": [
    "new_arr"
   ]
  },
  {
   "cell_type": "code",
   "execution_count": 36,
   "metadata": {
    "tags": []
   },
   "outputs": [
    {
     "output_type": "stream",
     "name": "stderr",
     "text": "19:32:40,124 INFO: Wrote results for file_name: data/data_json_lines/2020-06-19_2020-06-20.jsonl\n"
    }
   ],
   "source": [
    "write_JSON_file('data/data_json_lines/2020-06-19.jsonl', new_arr, json_lines=True)"
   ]
  },
  {
   "cell_type": "code",
   "execution_count": null,
   "metadata": {},
   "outputs": [],
   "source": []
  }
 ],
 "metadata": {
  "language_info": {
   "codemirror_mode": {
    "name": "ipython",
    "version": 3
   },
   "file_extension": ".py",
   "mimetype": "text/x-python",
   "name": "python",
   "nbconvert_exporter": "python",
   "pygments_lexer": "ipython3",
   "version": "3.7.4-final"
  },
  "orig_nbformat": 2,
  "kernelspec": {
   "name": "python37464bitvenvvenv3f7e8e4ea96948a48837abaca082db06",
   "display_name": "Python 3.7.4 64-bit ('.venv': venv)"
  }
 },
 "nbformat": 4,
 "nbformat_minor": 2
}